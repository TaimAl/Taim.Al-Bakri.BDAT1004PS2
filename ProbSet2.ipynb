{
 "cells": [
  {
   "cell_type": "code",
   "execution_count": null,
   "id": "8ddaa914",
   "metadata": {},
   "outputs": [],
   "source": [
    "#Problem Set 2\n",
    "# Taim Al-Bakri"
   ]
  },
  {
   "cell_type": "code",
   "execution_count": 2,
   "id": "524c3780",
   "metadata": {},
   "outputs": [
    {
     "name": "stdout",
     "output_type": "stream",
     "text": [
      "6\n"
     ]
    }
   ],
   "source": [
    "#Question 1 \n",
    "\n",
    "a = 0   # a is an int with a vlaue of 0 \n",
    "def b():     \n",
    "    global a     \n",
    "    a = c(a)  # Function b is excuting function c to the int a \n",
    "def c(a): \n",
    "    return a + 2  # Function c return a and adds 2 to it \n",
    "\n",
    "b()\n",
    "b()\n",
    "b()\n",
    "a\n",
    "\n",
    "print (a) # the excution of function b three times, excute function c adding 2 to a each time \n",
    "# result should be 6, if b() is repeated one more time it would be 8 and so on \n"
   ]
  },
  {
   "cell_type": "code",
   "execution_count": 25,
   "id": "00397230",
   "metadata": {},
   "outputs": [
    {
     "name": "stdout",
     "output_type": "stream",
     "text": [
      "5\n",
      "Fillength.txt not found. \n"
     ]
    }
   ],
   "source": [
    "# Question 2 \n",
    "\n",
    "def fileLength(file):\n",
    "    try:\n",
    "        with open(file, 'r') as file:\n",
    "            file = file.read().splitlines()\n",
    "        print(len(file))\n",
    "            # print length of the file name \n",
    "    except: print(f\"{file} not found. \")\n",
    "            # print a friendly message that the file is not founf \n",
    "\n",
    "fileLength(\"Filelength.txt\")\n",
    "fileLength(\"Fillength.txt\")"
   ]
  },
  {
   "cell_type": "code",
   "execution_count": 47,
   "id": "94743620",
   "metadata": {},
   "outputs": [
    {
     "name": "stdout",
     "output_type": "stream",
     "text": [
      "['doll', 'firetruck', 'kitten']\n",
      "I am a Kangaroo located at coordinates (0 , 0)\n",
      "I am a Kangaroo located at coordinates (3 , 0)\n",
      "I am a Kangaroo located at coordinates (3 , 5)\n",
      "I am a Kangaroo located at coordinates (0 , 0)\n"
     ]
    }
   ],
   "source": [
    "# Question 3\n",
    "\n",
    "pouch=[] # list created with no contnent\n",
    "class Marsupial:\n",
    "    def __init__(self):\n",
    "        pass\n",
    "    def put_in_pouch(self,item):\n",
    "        pouch.append(item)\n",
    "        # add an item to the list \n",
    "    def pouch_contents(self):\n",
    "        return pouch\n",
    "m = Marsupial()\n",
    "m.put_in_pouch('doll')\n",
    "# add an item to the list \n",
    "m.put_in_pouch('firetruck')\n",
    "m.put_in_pouch('kitten')\n",
    "m.pouch_contents()\n",
    "\n",
    "print (pouch)\n",
    "# print the content of the list after adding items to it \n",
    "\n",
    "startingpos=[0,0]\n",
    "# defining the strating position at x=0 and y=0\n",
    "class Kangaroo(Marsupial):\n",
    "    def __init__(self):\n",
    "        Marsupial.__init__(self)\n",
    "        # creating a subclass kamgaroo\n",
    "    def jump(self,x,y):\n",
    "        startingpos[0]=startingpos[0]+x\n",
    "        startingpos[1]=startingpos[1]+y\n",
    "        # defining the function that movies the kangaroo from the starting position,\n",
    "        # and save it as the new starting position for the next move\n",
    "    def __str__(self):\n",
    "        return (\"I am a Kangaroo located at coordinates (\"+str(startingpos[0]) + \" , \"  + str(startingpos[1])+ ')')\n",
    "    # return a message + the coordinates of the kangaroo\n",
    "k= Kangaroo()\n",
    "print (k)\n",
    " # return the starting position of the subclass at coordinates (0,0)\n",
    "k.jump(1,0)\n",
    "k.jump(1,0)\n",
    "k.jump(1,0)\n",
    "print(k)\n",
    "# performing the jump function 3 times to make the cooridnates (3,0) then printing it\n",
    "\n",
    "k.jump (0,5)\n",
    "print (k)\n",
    "# testing the function the the y coordinate only\n",
    "k.jump(-3,-5)\n",
    "print (k)\n",
    "# returning the coordinates to the original position "
   ]
  },
  {
   "cell_type": "code",
   "execution_count": 139,
   "id": "bd918a21",
   "metadata": {},
   "outputs": [
    {
     "name": "stdout",
     "output_type": "stream",
     "text": [
      "10\n",
      "5.0\n",
      "16.0\n",
      "8.0\n",
      "4.0\n",
      "2.0\n",
      "1.0\n"
     ]
    }
   ],
   "source": [
    "# Question 4\n",
    "\n",
    "\n",
    "def collatz(x):\n",
    "    # define the function with x to be the input of the function\n",
    "    if x==0: print ('please input a positive integer') #if the input is zero display a message \n",
    "    elif x==1: print(x)\n",
    "        #  test if x=1 which should stop the sequence and print the value 1 \n",
    "    elif x%2==0:\n",
    "        # the dequence starts if x is not equal to 1 and perform the two task, if odd or even accordingly \n",
    "        # when x is even print it, then divid by 2 \n",
    "        print(x)\n",
    "        collatz(x/2)\n",
    "    else:\n",
    "        # when x is odd, print it then multiply it by 3 and add 1 \n",
    "        print(x)\n",
    "        collatz(3*x+1)\n",
    "       \n",
    "        \n",
    "collatz(10)\n"
   ]
  },
  {
   "cell_type": "code",
   "execution_count": null,
   "id": "a8115b4c",
   "metadata": {},
   "outputs": [],
   "source": []
  },
  {
   "cell_type": "code",
   "execution_count": 140,
   "id": "1a3b2bc8",
   "metadata": {},
   "outputs": [
    {
     "name": "stdout",
     "output_type": "stream",
     "text": [
      " The binary of 0 =\n",
      "0\n",
      " The binary of 1 =\n",
      "1\n",
      " The binary of 3 =\n",
      "11\n",
      " The binary of 9 =\n",
      "1001\n"
     ]
    }
   ],
   "source": [
    "# Questiom 5\n",
    "\n",
    "def binary(n):\n",
    "    z=n # introducing z equal to n, in order to print the slected number in the output\n",
    "    binary_number=\"\"\n",
    "    if (n!=0):\n",
    "        # strating a loop as long as the number is not zero\n",
    "        while (n>=1):\n",
    "            if (n %2==0):\n",
    "                binary_number+=\"0\"\n",
    "                n=n/2\n",
    "                # divide the even number by 2 and repeat until the number is zero\n",
    "            else:\n",
    "                binary_number+=\"1\"\n",
    "                n=(n-1)/2\n",
    "                # if the number is odd, make the first binary number 1, make the number even and continoue the loop \n",
    "\n",
    "    else:\n",
    "        binary_number=\"0\"\n",
    "        \n",
    "    print (' The binary of',z, '=')\n",
    "    print (\"\".join(reversed(binary_number)))\n",
    "    # reversing the list, as the original order is 1-2-4-8-16-32 etc and needs to be reversed and start from right to left\n",
    "    # printing a message containing the original number and a line below its binary form\n",
    "\n",
    "binary(0)\n",
    "binary(1)\n",
    "binary(3)\n",
    "binary(9)"
   ]
  },
  {
   "cell_type": "code",
   "execution_count": 108,
   "id": "586aab72",
   "metadata": {},
   "outputs": [
    {
     "name": "stdout",
     "output_type": "stream",
     "text": [
      "W3C Mission\n",
      " Principles\n"
     ]
    }
   ],
   "source": [
    "# Question 6\n",
    "\n",
    "from html.parser import HTMLParser \n",
    "#Standard library module \n",
    "class HeadingParser(HTMLParser): # introducing the parser as a subclass\n",
    "    inHeading = False\n",
    "    inHeading2 = False\n",
    "    def handle_starttag(self, tag, attrs): \n",
    "        # start tag handler \n",
    "        if tag == \"h1\": # search for heading attubuites to print its value  \n",
    "            self.inHeading = True\n",
    "        elif tag == 'h2':\n",
    "            self.inHeading2 = True\n",
    "    def handle_data(self, data): \n",
    "        # arbitary text data handler\n",
    "        if self.inHeading:\n",
    "            print(data)\n",
    "            # printing the first heading\n",
    "        elif self.inHeading2:\n",
    "            print(' '+data)\n",
    "            # printing the next heading with an indent\n",
    "    def handle_endtag(self, tag): \n",
    "        # end tag handler \n",
    "        if tag ==\"h1\": \n",
    "            self.inHeading = False\n",
    "        elif tag == 'h2':\n",
    "            self.inHeading2 = False\n",
    "            #putting heading back to false\n",
    "        \n",
    "infile = open('w3c.html') \n",
    "content = infile.read() \n",
    "infile.close() \n",
    "hp = HeadingParser() \n",
    "hp.feed(content) "
   ]
  },
  {
   "cell_type": "code",
   "execution_count": 146,
   "id": "d25aedea",
   "metadata": {},
   "outputs": [
    {
     "name": "stdout",
     "output_type": "stream",
     "text": [
      "['url']\n"
     ]
    },
    {
     "ename": "ModuleNotFoundError",
     "evalue": "No module named 'python'",
     "output_type": "error",
     "traceback": [
      "\u001b[1;31m---------------------------------------------------------------------------\u001b[0m",
      "\u001b[1;31mModuleNotFoundError\u001b[0m                       Traceback (most recent call last)",
      "\u001b[1;32m<ipython-input-146-f0ecbfb6e565>\u001b[0m in \u001b[0;36m<module>\u001b[1;34m\u001b[0m\n\u001b[0;32m      6\u001b[0m \u001b[0mprint\u001b[0m \u001b[1;33m(\u001b[0m\u001b[0mwords\u001b[0m\u001b[1;33m)\u001b[0m\u001b[1;33m\u001b[0m\u001b[1;33m\u001b[0m\u001b[0m\n\u001b[0;32m      7\u001b[0m \u001b[1;33m\u001b[0m\u001b[0m\n\u001b[1;32m----> 8\u001b[1;33m \u001b[1;32mfrom\u001b[0m \u001b[0mpython\u001b[0m \u001b[1;32mimport\u001b[0m \u001b[0mwebbrowser\u001b[0m \u001b[1;31m# i need a library module to perfom this task\u001b[0m\u001b[1;33m\u001b[0m\u001b[1;33m\u001b[0m\u001b[0m\n\u001b[0m\u001b[0;32m      9\u001b[0m \u001b[1;33m\u001b[0m\u001b[0m\n\u001b[0;32m     10\u001b[0m \u001b[1;32mdef\u001b[0m \u001b[0mwebdir\u001b[0m\u001b[1;33m(\u001b[0m\u001b[0murl\u001b[0m\u001b[1;33m,\u001b[0m \u001b[0mdepth\u001b[0m\u001b[1;33m,\u001b[0m \u001b[0mindent\u001b[0m\u001b[1;33m)\u001b[0m\u001b[1;33m:\u001b[0m\u001b[1;33m\u001b[0m\u001b[1;33m\u001b[0m\u001b[0m\n",
      "\u001b[1;31mModuleNotFoundError\u001b[0m: No module named 'python'"
     ]
    }
   ],
   "source": [
    "# Question 7\n",
    "\n",
    "\n",
    "from python import webbrowser # i need a library module to perfom this task\n",
    "\n",
    "def webdir(url, depth, indent):\n",
    "    #defining the function\n",
    "    explore= webbrowser(check(url).content, 'html')\n",
    "\n",
    "    # an operation to verfiy if the url exist\n",
    "    pages=[]\n",
    "    # if the url exist, add to the list \n",
    "    pages.append('url')\n",
    "    \n",
    "print (pages)     \n",
    "\n",
    "\n",
    "webdir('http://reed.cs.depaul.edu/lperkovic/csc242/test1.html', 2, 0)"
   ]
  },
  {
   "cell_type": "code",
   "execution_count": 141,
   "id": "1b195877",
   "metadata": {},
   "outputs": [
    {
     "ename": "SyntaxError",
     "evalue": "invalid syntax (<ipython-input-141-d7aeecb5efa0>, line 6)",
     "output_type": "error",
     "traceback": [
      "\u001b[1;36m  File \u001b[1;32m\"<ipython-input-141-d7aeecb5efa0>\"\u001b[1;36m, line \u001b[1;32m6\u001b[0m\n\u001b[1;33m    cur.execute(''(City text, Country text, Season text, Temperature float, Rainfall float)')\u001b[0m\n\u001b[1;37m                        ^\u001b[0m\n\u001b[1;31mSyntaxError\u001b[0m\u001b[1;31m:\u001b[0m invalid syntax\n"
     ]
    }
   ],
   "source": [
    "# Question 8\n",
    "import sqlite3\n",
    "conn = sqlite3.connect('datatable.db')\n",
    "cur = conn.cursor()\n",
    "# importing sql library and open a cursor to perform database operations & excute commands\n",
    "cur.execute(''(city str, country str, season str, temperature float, rainfall float)')\n",
    "# Create table headings for the data to be insterted into \n",
    "            data=[file.open(datatable.csv)]\n",
    "\n",
    "cur.execute(\"select temp from datatable\")\n",
    "tempreture = cur.fetchall()\n",
    "print(\"All Tempretures:\")\n",
    "print(tempreture)\n",
    "print()\n",
    "#slecting tempertaure data from datatable and print their values in a list \n",
    "            \n",
    "cur.execute(\"SELECT * FROM datatable WHERE country=?\", (\"india\",))\n",
    "           # fetching table content for specific rows that contains \"india\"\n",
    "\n",
    "all_india = cur.fetchall()\n",
    "print(\"All Data from India:\")\n",
    "print(all_india)\n",
    "print()\n",
    "\n",
    "cur.execute(\"SELECT * FROM datatable WHERE season=?\", (\"fall\",))\n",
    "            # fetching table content for specific rows that contains \"fall\"\n",
    "all_fall = cur.fetchall()\n",
    "print(\"All Fall Season data:\")\n",
    "print(all_fall)\n",
    "print()\n",
    "            \n",
    "cur.execute(\"SELECT rainfall FROM datatable WHERE City=?\", (\"cairo\",))\n",
    "            # fetching table content for the heading rainfall if the row contains cairo  \n",
    "all_cairo = cur.fetchall()\n",
    "all_cairo = [i[0] for i in all_cairo]\n",
    "print(\"Total Annual rainfall of cairo:\")\n",
    "print(sum(all_cairo))\n",
    "print()"
   ]
  },
  {
   "cell_type": "code",
   "execution_count": 121,
   "id": "659a2d0a",
   "metadata": {},
   "outputs": [
    {
     "name": "stdout",
     "output_type": "stream",
     "text": [
      "['THE', 'QUICK', 'BROWN', 'FOX', 'JUMPS', 'OVER', 'THE', 'LAZY', 'DOG']\n",
      "['the', 'quick', 'brown', 'fox', 'jumps', 'over', 'the', 'lazy', 'dog']\n",
      "[3, 5, 5, 3, 5, 4, 3, 4, 3]\n",
      "[['THE', 'the', 3], ['QUICK', 'quick', 5], ['BROWN', 'brown', 5], ['FOX', 'fox', 3], ['JUMPS', 'jumps', 5], ['OVER', 'over', 4], ['THE', 'the', 3], ['LAZY', 'lazy', 4], ['DOG', 'dog', 3]]\n",
      "['quick', 'brown', 'jumps', 'over', 'lazy']\n"
     ]
    }
   ],
   "source": [
    "# Question9 \n",
    "\n",
    "words = ['The', 'quick', 'brown', 'fox', 'jumps', 'over', 'the', 'lazy', 'dog'] \n",
    "print([i.upper() for i in words]) \n",
    "# printing the content of the list after replacing strings with their upper case form\n",
    "print([i.lower() for i in words]) \n",
    "# printing the content of the list after replacing strings with their lower case form\n",
    "print([len(i) for i in words]) \n",
    "# creating a sublist containing the lenght of the strings in the list word\n",
    "print([[i.upper(), i.lower(), len(i)] for i in words]) \n",
    "# creating sublist of the list word by returning the upper case form\n",
    "# then the lower then print the length of the word\n",
    "print([i for i in words if len(i)>=4]) \n",
    "# print the content of the list when the condittion is true, which is equal or larger than 4 \n"
   ]
  },
  {
   "cell_type": "code",
   "execution_count": null,
   "id": "d911a95c",
   "metadata": {},
   "outputs": [],
   "source": []
  }
 ],
 "metadata": {
  "kernelspec": {
   "display_name": "Python 3",
   "language": "python",
   "name": "python3"
  },
  "language_info": {
   "codemirror_mode": {
    "name": "ipython",
    "version": 3
   },
   "file_extension": ".py",
   "mimetype": "text/x-python",
   "name": "python",
   "nbconvert_exporter": "python",
   "pygments_lexer": "ipython3",
   "version": "3.8.8"
  }
 },
 "nbformat": 4,
 "nbformat_minor": 5
}
